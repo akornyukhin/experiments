{
 "cells": [
  {
   "cell_type": "code",
   "execution_count": 78,
   "metadata": {},
   "outputs": [
    {
     "data": {
      "text/plain": [
       "True"
      ]
     },
     "execution_count": 78,
     "metadata": {},
     "output_type": "execute_result"
    }
   ],
   "source": [
    "from openai.types.responses.response_input_param import FunctionCallOutput\n",
    "from openai.types.responses import ResponseFunctionToolCall, FunctionTool, WebSearchTool, FunctionToolParam, WebSearchToolParam\n",
    "from openai import OpenAI"
   ]
  },
  {
   "cell_type": "code",
   "execution_count": 80,
   "metadata": {},
   "outputs": [],
   "source": [
    "client = OpenAI()"
   ]
  },
  {
   "cell_type": "code",
   "execution_count": 81,
   "metadata": {},
   "outputs": [],
   "source": [
    "def handle_tool_call(tool_call: ResponseFunctionToolCall) -> FunctionCallOutput:\n",
    "    tool_call_id = tool_call.call_id\n",
    "    function_name = tool_call.name\n",
    "    arguments_dict = eval(tool_call.arguments)\n",
    "\n",
    "    print(f\"Tool call ID: {tool_call_id}\")\n",
    "    print(f\"Function name: {function_name}\")\n",
    "    print(f\"Arguments dict: {arguments_dict}\")\n",
    "\n",
    "    result = getattr(globals()[function_name], \"__call__\")(**arguments_dict)\n",
    "\n",
    "    # Check if result is a string or an object with model_dumps_json method\n",
    "    if isinstance(result, str):\n",
    "        # If it's a string, use it directly\n",
    "        output = result\n",
    "    elif hasattr(result, \"model_dump\"):\n",
    "        # If it's an object with model_dump method, use that\n",
    "        output = result.model_dump()\n",
    "    else:\n",
    "        # For any other type, convert to string\n",
    "        output = str(result)\n",
    "\n",
    "    return FunctionCallOutput(\n",
    "        call_id=tool_call_id,\n",
    "        output=output,\n",
    "        type=\"function_call_output\"\n",
    "    )"
   ]
  },
  {
   "cell_type": "code",
   "execution_count": 82,
   "metadata": {},
   "outputs": [],
   "source": [
    "\n",
    "def green_colour_attached_to_name(name: str) -> str:\n",
    "    return f\"{name}, you are now Green :)\"\n",
    "\n",
    "\n",
    "green_colour_attached_to_name_tool = FunctionTool(\n",
    "    type=\"function\",\n",
    "    name=\"green_colour_attached_to_name\",\n",
    "    description=\"Use this to attach word 'Green' to the provided name.\",\n",
    "    parameters={\n",
    "        \"type\": \"object\",\n",
    "        \"properties\": {\n",
    "                \"name\": {\n",
    "                    \"type\": \"string\",\n",
    "                    \"description\": \"The name of the person\",\n",
    "                },\n",
    "        },\n",
    "        \"required\": [\"name\"],\n",
    "        \"additionalProperties\": False,\n",
    "    },\n",
    "    strict=True,\n",
    ")\n",
    "\n",
    "web_search_tool = WebSearchTool(type=\"web_search_preview\")"
   ]
  },
  {
   "cell_type": "code",
   "execution_count": 83,
   "metadata": {},
   "outputs": [],
   "source": [
    "from typing import cast\n",
    "green_colour_attached_to_name_tool_param = cast(\n",
    "    FunctionToolParam, green_colour_attached_to_name_tool)\n",
    "web_search_tool_param = cast(WebSearchToolParam, web_search_tool)"
   ]
  },
  {
   "cell_type": "code",
   "execution_count": 84,
   "metadata": {},
   "outputs": [],
   "source": [
    "response = client.responses.create(\n",
    "    model=\"gpt-4o\",\n",
    "    instructions=\"You are a helpful assistant.\",\n",
    "    input=\"Attach a colour to the my name.\",\n",
    "    tools=[green_colour_attached_to_name_tool_param, web_search_tool_param]\n",
    ")"
   ]
  },
  {
   "cell_type": "code",
   "execution_count": 85,
   "metadata": {},
   "outputs": [
    {
     "data": {
      "text/plain": [
       "{'id': 'resp_67d31cdbf2088191b6560c51ee58598d036dbb28070fa328',\n",
       " 'created_at': 1741888731.0,\n",
       " 'error': None,\n",
       " 'incomplete_details': None,\n",
       " 'instructions': 'You are a helpful assistant.',\n",
       " 'metadata': {},\n",
       " 'model': 'gpt-4o-2024-08-06',\n",
       " 'object': 'response',\n",
       " 'output': [{'id': 'msg_67d31cdc52d48191bddfe2c4e0510312036dbb28070fa328',\n",
       "   'content': [{'annotations': [],\n",
       "     'text': \"Sure, tell me your name and the color you'd like!\",\n",
       "     'type': 'output_text'}],\n",
       "   'role': 'assistant',\n",
       "   'status': 'completed',\n",
       "   'type': 'message'}],\n",
       " 'parallel_tool_calls': True,\n",
       " 'temperature': 1.0,\n",
       " 'tool_choice': 'auto',\n",
       " 'tools': [{'name': 'green_colour_attached_to_name',\n",
       "   'parameters': {'type': 'object',\n",
       "    'properties': {'name': {'type': 'string',\n",
       "      'description': 'The name of the person'}},\n",
       "    'required': ['name'],\n",
       "    'additionalProperties': False},\n",
       "   'strict': True,\n",
       "   'type': 'function',\n",
       "   'description': \"Use this to attach word 'Green' to the provided name.\"},\n",
       "  {'type': 'web_search_preview',\n",
       "   'search_context_size': 'medium',\n",
       "   'user_location': {'type': 'approximate',\n",
       "    'city': None,\n",
       "    'country': 'US',\n",
       "    'region': None,\n",
       "    'timezone': None}}],\n",
       " 'top_p': 1.0,\n",
       " 'max_output_tokens': None,\n",
       " 'previous_response_id': None,\n",
       " 'reasoning': {'effort': None, 'generate_summary': None},\n",
       " 'status': 'completed',\n",
       " 'text': {'format': {'type': 'text'}},\n",
       " 'truncation': 'disabled',\n",
       " 'usage': {'input_tokens': 386,\n",
       "  'output_tokens': 14,\n",
       "  'output_tokens_details': {'reasoning_tokens': 0},\n",
       "  'total_tokens': 400,\n",
       "  'input_tokens_details': {'cached_tokens': 0}},\n",
       " 'user': None,\n",
       " 'store': True}"
      ]
     },
     "execution_count": 85,
     "metadata": {},
     "output_type": "execute_result"
    }
   ],
   "source": [
    "response.model_dump()"
   ]
  },
  {
   "cell_type": "code",
   "execution_count": 86,
   "metadata": {},
   "outputs": [],
   "source": [
    "new_response = client.responses.create(\n",
    "    model=\"gpt-4o\",\n",
    "    instructions=\"You are a helpful assistant.\",\n",
    "    input=\"My name is Jonathan Joster.\",\n",
    "    previous_response_id=response.id,\n",
    "    tools=[green_colour_attached_to_name_tool_param, web_search_tool_param]\n",
    ")"
   ]
  },
  {
   "cell_type": "code",
   "execution_count": 87,
   "metadata": {},
   "outputs": [
    {
     "data": {
      "text/plain": [
       "{'id': 'resp_67d31cdccfd88191905ccf63b9b322ce036dbb28070fa328',\n",
       " 'created_at': 1741888733.0,\n",
       " 'error': None,\n",
       " 'incomplete_details': None,\n",
       " 'instructions': 'You are a helpful assistant.',\n",
       " 'metadata': {},\n",
       " 'model': 'gpt-4o-2024-08-06',\n",
       " 'object': 'response',\n",
       " 'output': [{'id': 'fc_67d31cddb8448191ae88b1d2273d2f9e036dbb28070fa328',\n",
       "   'arguments': '{\"name\":\"Jonathan Joster\"}',\n",
       "   'call_id': 'call_oFXiPh4fNj1DKKnG3kek2bcW',\n",
       "   'name': 'green_colour_attached_to_name',\n",
       "   'type': 'function_call',\n",
       "   'status': 'completed'}],\n",
       " 'parallel_tool_calls': True,\n",
       " 'temperature': 1.0,\n",
       " 'tool_choice': 'auto',\n",
       " 'tools': [{'name': 'green_colour_attached_to_name',\n",
       "   'parameters': {'type': 'object',\n",
       "    'properties': {'name': {'type': 'string',\n",
       "      'description': 'The name of the person'}},\n",
       "    'required': ['name'],\n",
       "    'additionalProperties': False},\n",
       "   'strict': True,\n",
       "   'type': 'function',\n",
       "   'description': \"Use this to attach word 'Green' to the provided name.\"},\n",
       "  {'type': 'web_search_preview',\n",
       "   'search_context_size': 'medium',\n",
       "   'user_location': {'type': 'approximate',\n",
       "    'city': None,\n",
       "    'country': 'US',\n",
       "    'region': None,\n",
       "    'timezone': None}}],\n",
       " 'top_p': 1.0,\n",
       " 'max_output_tokens': None,\n",
       " 'previous_response_id': 'resp_67d31cdbf2088191b6560c51ee58598d036dbb28070fa328',\n",
       " 'reasoning': {'effort': None, 'generate_summary': None},\n",
       " 'status': 'completed',\n",
       " 'text': {'format': {'type': 'text'}},\n",
       " 'truncation': 'disabled',\n",
       " 'usage': {'input_tokens': 413,\n",
       "  'output_tokens': 21,\n",
       "  'output_tokens_details': {'reasoning_tokens': 0},\n",
       "  'total_tokens': 434,\n",
       "  'input_tokens_details': {'cached_tokens': 0}},\n",
       " 'user': None,\n",
       " 'store': True}"
      ]
     },
     "execution_count": 87,
     "metadata": {},
     "output_type": "execute_result"
    }
   ],
   "source": [
    "new_response.model_dump()"
   ]
  },
  {
   "cell_type": "code",
   "execution_count": 92,
   "metadata": {},
   "outputs": [
    {
     "name": "stdout",
     "output_type": "stream",
     "text": [
      "17:59:36.592 Tool call ID: call_oFXiPh4fNj1DKKnG3kek2bcW\n",
      "17:59:36.592 Function name: green_colour_attached_to_name\n",
      "17:59:36.592 Arguments dict: {'name': 'Jonathan Joster'}\n"
     ]
    }
   ],
   "source": [
    "for tool_call in new_response.output:\n",
    "    if tool_call.type != \"function_call\":\n",
    "        continue\n",
    "    tool_result_message = handle_tool_call(tool_call)"
   ]
  },
  {
   "cell_type": "code",
   "execution_count": 89,
   "metadata": {},
   "outputs": [],
   "source": [
    "new_response_tool_result = client.responses.create(\n",
    "    model=\"gpt-4o\",\n",
    "    instructions=\"You are a helpful assistant.\",\n",
    "    input=[tool_result_message],\n",
    "    previous_response_id=new_response.id,\n",
    "    tools=[green_colour_attached_to_name_tool_param, web_search_tool_param]\n",
    ")"
   ]
  },
  {
   "cell_type": "code",
   "execution_count": 90,
   "metadata": {},
   "outputs": [
    {
     "data": {
      "text/plain": [
       "{'id': 'resp_67d31cde17348191b1f70b8d8c79b75b036dbb28070fa328',\n",
       " 'created_at': 1741888734.0,\n",
       " 'error': None,\n",
       " 'incomplete_details': None,\n",
       " 'instructions': 'You are a helpful assistant.',\n",
       " 'metadata': {},\n",
       " 'model': 'gpt-4o-2024-08-06',\n",
       " 'object': 'response',\n",
       " 'output': [{'id': 'msg_67d31cdeb7e48191bb6e226d2cdd3ca2036dbb28070fa328',\n",
       "   'content': [{'annotations': [],\n",
       "     'text': 'Jonathan Joster, you are now associated with the color Green! 🌿',\n",
       "     'type': 'output_text'}],\n",
       "   'role': 'assistant',\n",
       "   'status': 'completed',\n",
       "   'type': 'message'}],\n",
       " 'parallel_tool_calls': True,\n",
       " 'temperature': 1.0,\n",
       " 'tool_choice': 'auto',\n",
       " 'tools': [{'name': 'green_colour_attached_to_name',\n",
       "   'parameters': {'type': 'object',\n",
       "    'properties': {'name': {'type': 'string',\n",
       "      'description': 'The name of the person'}},\n",
       "    'required': ['name'],\n",
       "    'additionalProperties': False},\n",
       "   'strict': True,\n",
       "   'type': 'function',\n",
       "   'description': \"Use this to attach word 'Green' to the provided name.\"},\n",
       "  {'type': 'web_search_preview',\n",
       "   'search_context_size': 'medium',\n",
       "   'user_location': {'type': 'approximate',\n",
       "    'city': None,\n",
       "    'country': 'US',\n",
       "    'region': None,\n",
       "    'timezone': None}}],\n",
       " 'top_p': 1.0,\n",
       " 'max_output_tokens': None,\n",
       " 'previous_response_id': 'resp_67d31cdccfd88191905ccf63b9b322ce036dbb28070fa328',\n",
       " 'reasoning': {'effort': None, 'generate_summary': None},\n",
       " 'status': 'completed',\n",
       " 'text': {'format': {'type': 'text'}},\n",
       " 'truncation': 'disabled',\n",
       " 'usage': {'input_tokens': 455,\n",
       "  'output_tokens': 17,\n",
       "  'output_tokens_details': {'reasoning_tokens': 0},\n",
       "  'total_tokens': 472,\n",
       "  'input_tokens_details': {'cached_tokens': 0}},\n",
       " 'user': None,\n",
       " 'store': True}"
      ]
     },
     "execution_count": 90,
     "metadata": {},
     "output_type": "execute_result"
    }
   ],
   "source": [
    "new_response_tool_result.model_dump()"
   ]
  },
  {
   "cell_type": "code",
   "execution_count": 91,
   "metadata": {},
   "outputs": [
    {
     "data": {
      "text/plain": [
       "[{'id': 'msg_67d31cdbf32c81918889bcdf2dda249b036dbb28070fa328',\n",
       "  'content': [{'text': 'Attach a colour to the my name.',\n",
       "    'type': 'input_text'}],\n",
       "  'role': 'user',\n",
       "  'status': 'completed',\n",
       "  'type': 'message'},\n",
       " {'id': 'msg_67d31cdc52d48191bddfe2c4e0510312036dbb28070fa328',\n",
       "  'content': [{'annotations': [],\n",
       "    'text': \"Sure, tell me your name and the color you'd like!\",\n",
       "    'type': 'output_text'}],\n",
       "  'role': 'assistant',\n",
       "  'status': 'completed',\n",
       "  'type': 'message'},\n",
       " {'id': 'msg_67d31cdcd118819191c8376f0ada5692036dbb28070fa328',\n",
       "  'content': [{'text': 'My name is Jonathan Joster.', 'type': 'input_text'}],\n",
       "  'role': 'user',\n",
       "  'status': 'completed',\n",
       "  'type': 'message'},\n",
       " {'id': 'fc_67d31cddb8448191ae88b1d2273d2f9e036dbb28070fa328',\n",
       "  'arguments': '{\"name\":\"Jonathan Joster\"}',\n",
       "  'call_id': 'call_oFXiPh4fNj1DKKnG3kek2bcW',\n",
       "  'name': 'green_colour_attached_to_name',\n",
       "  'type': 'function_call',\n",
       "  'status': 'completed'},\n",
       " {'id': 'fco_67d31cde18408191abab9ee7ad3fffef036dbb28070fa328',\n",
       "  'call_id': 'call_oFXiPh4fNj1DKKnG3kek2bcW',\n",
       "  'output': 'Jonathan Joster, you are now Green :)',\n",
       "  'type': 'function_call_output',\n",
       "  'status': 'completed'}]"
      ]
     },
     "execution_count": 91,
     "metadata": {},
     "output_type": "execute_result"
    }
   ],
   "source": [
    "client.responses.input_items.list(\n",
    "    new_response_tool_result.id).model_dump()[\"data\"][::-1]"
   ]
  },
  {
   "cell_type": "code",
   "execution_count": null,
   "metadata": {},
   "outputs": [],
   "source": []
  }
 ],
 "metadata": {
  "kernelspec": {
   "display_name": "experiments",
   "language": "python",
   "name": "python3"
  },
  "language_info": {
   "codemirror_mode": {
    "name": "ipython",
    "version": 3
   },
   "file_extension": ".py",
   "mimetype": "text/x-python",
   "name": "python",
   "nbconvert_exporter": "python",
   "pygments_lexer": "ipython3",
   "version": "3.12.8"
  }
 },
 "nbformat": 4,
 "nbformat_minor": 2
}
