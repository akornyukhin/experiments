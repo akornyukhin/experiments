{
 "cells": [
  {
   "cell_type": "markdown",
   "metadata": {
    "vscode": {
     "languageId": "plaintext"
    }
   },
   "source": [
    "# Function calling\n"
   ]
  },
  {
   "cell_type": "code",
   "execution_count": 2,
   "metadata": {},
   "outputs": [],
   "source": [
    "from typing import Any\n",
    "from openai.types.chat import ChatCompletionToolParam\n",
    "from openai.types.shared_params import FunctionDefinition\n",
    "\n",
    "\n",
    "def green_colour_attached_to_name(name: str) -> str:\n",
    "    return f\"{name}, you are now Green :)\"\n",
    "\n",
    "\n",
    "green_colour_attached_to_name_tool: ChatCompletionToolParam = ChatCompletionToolParam(\n",
    "    type=\"function\",\n",
    "    function=FunctionDefinition(\n",
    "        name=\"green_colour_attached_to_name\",\n",
    "        description=\"Use this to attach word 'Green' to the provided name.\",\n",
    "        parameters={\n",
    "            \"type\": \"object\",\n",
    "            \"properties\": {\n",
    "                \"name\": {\n",
    "                    \"type\": \"string\",\n",
    "                    \"description\": \"The name of the person\",\n",
    "                },\n",
    "            },\n",
    "            \"required\": [\"name\"],\n",
    "            \"additionalProperties\": False,\n",
    "        },\n",
    "        strict=True,\n",
    "    ),\n",
    ")"
   ]
  },
  {
   "cell_type": "code",
   "execution_count": 3,
   "metadata": {},
   "outputs": [],
   "source": [
    "from openai import OpenAI\n",
    "\n",
    "client = OpenAI()\n",
    "\n",
    "tools = [green_colour_attached_to_name_tool]"
   ]
  },
  {
   "cell_type": "code",
   "execution_count": 5,
   "metadata": {},
   "outputs": [],
   "source": [
    "completion = client.chat.completions.create(\n",
    "    model=\"gpt-4o-mini\",\n",
    "    messages=[\n",
    "        {\n",
    "            \"role\": \"system\",\n",
    "            \"content\": \"You are a helpful assistant. Before making a function call, make sure you know all the necessary information from the user.\",\n",
    "        },\n",
    "        {\n",
    "            \"role\": \"user\",\n",
    "            \"content\": \"Attach word 'Green' to my name.\",\n",
    "        },\n",
    "    ],\n",
    "    tools=tools,\n",
    ")"
   ]
  },
  {
   "cell_type": "code",
   "execution_count": 6,
   "metadata": {},
   "outputs": [
    {
     "name": "stdout",
     "output_type": "stream",
     "text": [
      "Choice(finish_reason='stop', index=0, logprobs=None, message=ChatCompletionMessage(content='Please provide me with your name so I can attach the word \"Green\" to it.', refusal=None, role='assistant', audio=None, function_call=None, tool_calls=None))\n",
      "---\n"
     ]
    }
   ],
   "source": [
    "for choice in completion.choices:\n",
    "    print(choice)\n",
    "    print(\"---\")"
   ]
  },
  {
   "cell_type": "code",
   "execution_count": 189,
   "metadata": {},
   "outputs": [],
   "source": [
    "completion = client.chat.completions.create(\n",
    "    model=\"gpt-4o-mini\",\n",
    "    messages=[\n",
    "        {\n",
    "            \"role\": \"system\",\n",
    "            \"content\": \"You are a helpful assistant. Before making a function call, make sure you know all the necessary information from the user.\",\n",
    "        },\n",
    "        {\n",
    "            \"role\": \"user\",\n",
    "            \"content\": \"Attach word 'Green' to my name.\",\n",
    "        },\n",
    "        {\n",
    "            \"role\": \"assistant\",\n",
    "            \"content\": \"Could you please provide me with your name so I can attach the word 'Green' to it?\",\n",
    "        },\n",
    "        {\"role\": \"user\", \"content\": \"My name is Alex\"},\n",
    "    ],\n",
    "    tools=tools,\n",
    ")"
   ]
  },
  {
   "cell_type": "code",
   "execution_count": 190,
   "metadata": {},
   "outputs": [
    {
     "data": {
      "text/plain": [
       "[Choice(finish_reason='tool_calls', index=0, logprobs=None, message=ChatCompletionMessage(content=None, refusal=None, role='assistant', audio=None, function_call=None, tool_calls=[ChatCompletionMessageToolCall(id='call_Suxn53cV75hTFrr7mEPAGwed', function=Function(arguments='{\"name\":\"Alex\"}', name='green_colour_attached_to_name'), type='function')]))]"
      ]
     },
     "execution_count": 190,
     "metadata": {},
     "output_type": "execute_result"
    }
   ],
   "source": [
    "completion.choices"
   ]
  },
  {
   "cell_type": "code",
   "execution_count": 176,
   "metadata": {},
   "outputs": [],
   "source": [
    "from openai.types.chat import ChatCompletionMessageToolCall\n",
    "\n",
    "if completion.choices[0].message.tool_calls:\n",
    "    tool_call: ChatCompletionMessageToolCall = completion.choices[0].message.tool_calls[\n",
    "        0\n",
    "    ]"
   ]
  },
  {
   "cell_type": "code",
   "execution_count": 177,
   "metadata": {},
   "outputs": [],
   "source": [
    "tool_call_id = tool_call.id"
   ]
  },
  {
   "cell_type": "code",
   "execution_count": 178,
   "metadata": {},
   "outputs": [],
   "source": [
    "function_name = tool_call.function.name\n",
    "arguments_dict = eval(tool_call.function.arguments)"
   ]
  },
  {
   "cell_type": "code",
   "execution_count": 179,
   "metadata": {},
   "outputs": [
    {
     "data": {
      "text/plain": [
       "'Alex, you are now Green :)'"
      ]
     },
     "execution_count": 179,
     "metadata": {},
     "output_type": "execute_result"
    }
   ],
   "source": [
    "getattr(globals()[function_name], \"__call__\")(**arguments_dict)"
   ]
  },
  {
   "cell_type": "code",
   "execution_count": 180,
   "metadata": {},
   "outputs": [
    {
     "data": {
      "text/plain": [
       "'Alex, you are now Green :)'"
      ]
     },
     "execution_count": 180,
     "metadata": {},
     "output_type": "execute_result"
    }
   ],
   "source": [
    "result = getattr(globals()[function_name], \"__call__\")(**arguments_dict)\n",
    "result"
   ]
  },
  {
   "cell_type": "code",
   "execution_count": 187,
   "metadata": {},
   "outputs": [],
   "source": [
    "from openai.types.chat import (\n",
    "    ChatCompletionAssistantMessageParam,\n",
    "    ChatCompletionMessageToolCallParam,\n",
    ")\n",
    "from typing import cast\n",
    "\n",
    "\n",
    "tool_call_message = ChatCompletionAssistantMessageParam(\n",
    "    role=\"assistant\",\n",
    "    tool_calls=[\n",
    "        ChatCompletionMessageToolCallParam(\n",
    "            **cast(ChatCompletionMessageToolCallParam, tool_call.to_dict())\n",
    "        )\n",
    "    ],\n",
    ")"
   ]
  },
  {
   "cell_type": "code",
   "execution_count": 182,
   "metadata": {},
   "outputs": [],
   "source": [
    "import json\n",
    "from openai.types.chat import ChatCompletionToolMessageParam\n",
    "\n",
    "function_call_result_message = ChatCompletionToolMessageParam(\n",
    "    role=\"tool\",\n",
    "    content=json.dumps({\"name\": \"Alex\", \"function_call_result\": result}),\n",
    "    tool_call_id=tool_call_id,\n",
    ")"
   ]
  },
  {
   "cell_type": "code",
   "execution_count": 183,
   "metadata": {},
   "outputs": [],
   "source": [
    "completion = client.chat.completions.create(\n",
    "    model=\"gpt-4o-mini\",\n",
    "    messages=[\n",
    "        {\n",
    "            \"role\": \"system\",\n",
    "            \"content\": \"You are a helpful assistant. Before making a function call, make sure you know all the necessary information from the user.\",\n",
    "        },\n",
    "        {\n",
    "            \"role\": \"user\",\n",
    "            \"content\": \"Attach word 'Green' to my name.\",\n",
    "        },\n",
    "        {\n",
    "            \"role\": \"assistant\",\n",
    "            \"content\": \"Please provide me with your name so I can attach the word 'Green' to it.\",\n",
    "        },\n",
    "        {\"role\": \"user\", \"content\": \"My name is Alex\"},\n",
    "        tool_call_message,\n",
    "        function_call_result_message,\n",
    "    ],\n",
    "    tools=tools,\n",
    ")"
   ]
  },
  {
   "cell_type": "code",
   "execution_count": 184,
   "metadata": {},
   "outputs": [
    {
     "data": {
      "text/plain": [
       "Choice(finish_reason='stop', index=0, logprobs=None, message=ChatCompletionMessage(content='Alex, you are now Green! :)', refusal=None, role='assistant', audio=None, function_call=None, tool_calls=None))"
      ]
     },
     "execution_count": 184,
     "metadata": {},
     "output_type": "execute_result"
    }
   ],
   "source": [
    "completion.choices[0]"
   ]
  },
  {
   "cell_type": "markdown",
   "metadata": {},
   "source": [
    "# Structured Output\n"
   ]
  },
  {
   "cell_type": "code",
   "execution_count": 5,
   "metadata": {},
   "outputs": [],
   "source": [
    "from pydantic import BaseModel\n",
    "\n",
    "\n",
    "class Step(BaseModel):\n",
    "    explanation: str\n",
    "    output: str\n",
    "\n",
    "\n",
    "class MathResponse(BaseModel):\n",
    "    steps: list[Step]\n",
    "    final_answer: str"
   ]
  },
  {
   "cell_type": "code",
   "execution_count": 9,
   "metadata": {},
   "outputs": [],
   "source": [
    "completion = client.beta.chat.completions.parse(\n",
    "    model=\"gpt-4o-mini\",\n",
    "    messages=[\n",
    "        {\n",
    "            \"role\": \"system\",\n",
    "            \"content\": \"You are a helpful math tutor. Guide the user through the solution step by step.\",\n",
    "        },\n",
    "        {\"role\": \"user\", \"content\": \"how can I solve 8x + 7 = -23\"},\n",
    "    ],\n",
    "    response_format=MathResponse,\n",
    ")"
   ]
  },
  {
   "cell_type": "code",
   "execution_count": 16,
   "metadata": {},
   "outputs": [
    {
     "data": {
      "text/plain": [
       "[Step(explanation='We want to isolate the term with x on one side. We start by subtracting 7 from both sides of the equation.', output='8x + 7 - 7 = -23 - 7'),\n",
       " Step(explanation='This simplifies to 8x = -30, since the +7 and -7 cancel each other out.', output='8x = -30'),\n",
       " Step(explanation='Next, we want to solve for x by dividing both sides of the equation by 8.', output='8x / 8 = -30 / 8'),\n",
       " Step(explanation='This simplifies to x = -30/8. We can simplify this fraction by dividing both the numerator and the denominator by 2.', output='x = -15/4'),\n",
       " Step(explanation='Alternatively, we can express -15/4 as a decimal if needed, which is -3.75.', output='x = -3.75 (if required)'),\n",
       " Step(explanation='We arrive at the final value of x that satisfies the equation.', output='x = -15/4 or x = -3.75')]"
      ]
     },
     "execution_count": 16,
     "metadata": {},
     "output_type": "execute_result"
    }
   ],
   "source": [
    "completion.choices[0].message.parsed.steps"
   ]
  },
  {
   "cell_type": "code",
   "execution_count": 18,
   "metadata": {},
   "outputs": [
    {
     "data": {
      "text/plain": [
       "'x = -15/4 or x = -3.75'"
      ]
     },
     "execution_count": 18,
     "metadata": {},
     "output_type": "execute_result"
    }
   ],
   "source": [
    "completion.choices[0].message.parsed.final_answer"
   ]
  },
  {
   "cell_type": "code",
   "execution_count": null,
   "metadata": {},
   "outputs": [],
   "source": []
  }
 ],
 "metadata": {
  "kernelspec": {
   "display_name": "experiments",
   "language": "python",
   "name": "python3"
  },
  "language_info": {
   "codemirror_mode": {
    "name": "ipython",
    "version": 3
   },
   "file_extension": ".py",
   "mimetype": "text/x-python",
   "name": "python",
   "nbconvert_exporter": "python",
   "pygments_lexer": "ipython3",
   "version": "3.12.8"
  }
 },
 "nbformat": 4,
 "nbformat_minor": 2
}
