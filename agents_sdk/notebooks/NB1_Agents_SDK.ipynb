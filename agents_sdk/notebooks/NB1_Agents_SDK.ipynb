{
 "cells": [
  {
   "cell_type": "code",
   "execution_count": 10,
   "metadata": {},
   "outputs": [],
   "source": [
    "from agents import Agent, WebSearchTool, function_tool, Runner, trace"
   ]
  },
  {
   "cell_type": "code",
   "execution_count": 46,
   "metadata": {},
   "outputs": [],
   "source": [
    "@function_tool\n",
    "def green_colour_attached_to_name(name: str) -> str:\n",
    "    return f\"{name}, you are now Green :)\""
   ]
  },
  {
   "cell_type": "code",
   "execution_count": 47,
   "metadata": {},
   "outputs": [],
   "source": [
    "agent = Agent(\n",
    "    name=\"Test Agent\",\n",
    "    model=\"gpt-4o\",\n",
    "    instructions=\"You are a helpful assistant that can answer questions and help with tasks.\",\n",
    "    tools=[WebSearchTool(), green_colour_attached_to_name],\n",
    ")"
   ]
  },
  {
   "cell_type": "code",
   "execution_count": 48,
   "metadata": {},
   "outputs": [],
   "source": [
    "async def main(inputs: list[any]):\n",
    "    with trace(\"Test Agent\"):\n",
    "        result = await Runner.run(agent, input=inputs)\n",
    "        return result"
   ]
  },
  {
   "cell_type": "code",
   "execution_count": 49,
   "metadata": {},
   "outputs": [],
   "source": [
    "result = await main([{\"role\": \"user\", \"content\": \"Attach a colour to my name.\"}])"
   ]
  },
  {
   "cell_type": "code",
   "execution_count": 50,
   "metadata": {},
   "outputs": [
    {
     "data": {
      "text/plain": [
       "[{'role': 'user', 'content': 'Attach a colour to my name.'},\n",
       " {'id': 'msg_67d30f967ef481919df101ca80beddae0a1119327c4434d9',\n",
       "  'content': [{'annotations': [],\n",
       "    'text': 'Sure! Could you please provide your name?',\n",
       "    'type': 'output_text'}],\n",
       "  'role': 'assistant',\n",
       "  'status': 'completed',\n",
       "  'type': 'message'}]"
      ]
     },
     "execution_count": 50,
     "metadata": {},
     "output_type": "execute_result"
    }
   ],
   "source": [
    "result.to_input_list()"
   ]
  },
  {
   "cell_type": "code",
   "execution_count": 51,
   "metadata": {},
   "outputs": [],
   "source": [
    "result = await main([*result.to_input_list(),\n",
    "                    {\"role\": \"user\", \"content\": \"My name is Jonathan Joster.\"}])"
   ]
  },
  {
   "cell_type": "code",
   "execution_count": 58,
   "metadata": {},
   "outputs": [
    {
     "data": {
      "text/plain": [
       "RunResult(input=[{'role': 'user', 'content': 'Attach a colour to my name.'}, {'id': 'msg_67d30f967ef481919df101ca80beddae0a1119327c4434d9', 'content': [{'annotations': [], 'text': 'Sure! Could you please provide your name?', 'type': 'output_text'}], 'role': 'assistant', 'status': 'completed', 'type': 'message'}, {'role': 'user', 'content': 'My name is Jonathan Joster.'}], new_items=[ToolCallItem(agent=Agent(name='Test Agent', instructions='You are a helpful assistant that can answer questions and help with tasks.', handoff_description=None, handoffs=[], model='gpt-4o', model_settings=ModelSettings(temperature=None, top_p=None, frequency_penalty=None, presence_penalty=None, tool_choice=None, parallel_tool_calls=False, truncation=None), tools=[WebSearchTool(user_location=None, search_context_size='medium'), FunctionTool(name='green_colour_attached_to_name', description='', params_json_schema={'properties': {'name': {'title': 'Name', 'type': 'string'}}, 'required': ['name'], 'title': 'green_colour_attached_to_name_args', 'type': 'object', 'additionalProperties': False}, on_invoke_tool=<function function_tool.<locals>._create_function_tool.<locals>._on_invoke_tool at 0x117a33c40>, strict_json_schema=True)], input_guardrails=[], output_guardrails=[], output_type=None, hooks=None), raw_item=ResponseFunctionToolCall(id='fc_67d30f9d2c4c8191815219b855c560720a1119327c4434d9', arguments='{\"name\":\"Jonathan Joster\"}', call_id='call_ua90O0MR7cxnNWdXAVMaRTwD', name='green_colour_attached_to_name', type='function_call', status='completed'), type='tool_call_item'), ToolCallOutputItem(agent=Agent(name='Test Agent', instructions='You are a helpful assistant that can answer questions and help with tasks.', handoff_description=None, handoffs=[], model='gpt-4o', model_settings=ModelSettings(temperature=None, top_p=None, frequency_penalty=None, presence_penalty=None, tool_choice=None, parallel_tool_calls=False, truncation=None), tools=[WebSearchTool(user_location=None, search_context_size='medium'), FunctionTool(name='green_colour_attached_to_name', description='', params_json_schema={'properties': {'name': {'title': 'Name', 'type': 'string'}}, 'required': ['name'], 'title': 'green_colour_attached_to_name_args', 'type': 'object', 'additionalProperties': False}, on_invoke_tool=<function function_tool.<locals>._create_function_tool.<locals>._on_invoke_tool at 0x117a33c40>, strict_json_schema=True)], input_guardrails=[], output_guardrails=[], output_type=None, hooks=None), raw_item={'call_id': 'call_ua90O0MR7cxnNWdXAVMaRTwD', 'output': 'Jonathan Joster, you are now Green :)', 'type': 'function_call_output'}, output='Jonathan Joster, you are now Green :)', type='tool_call_output_item'), MessageOutputItem(agent=Agent(name='Test Agent', instructions='You are a helpful assistant that can answer questions and help with tasks.', handoff_description=None, handoffs=[], model='gpt-4o', model_settings=ModelSettings(temperature=None, top_p=None, frequency_penalty=None, presence_penalty=None, tool_choice=None, parallel_tool_calls=False, truncation=None), tools=[WebSearchTool(user_location=None, search_context_size='medium'), FunctionTool(name='green_colour_attached_to_name', description='', params_json_schema={'properties': {'name': {'title': 'Name', 'type': 'string'}}, 'required': ['name'], 'title': 'green_colour_attached_to_name_args', 'type': 'object', 'additionalProperties': False}, on_invoke_tool=<function function_tool.<locals>._create_function_tool.<locals>._on_invoke_tool at 0x117a33c40>, strict_json_schema=True)], input_guardrails=[], output_guardrails=[], output_type=None, hooks=None), raw_item=ResponseOutputMessage(id='msg_67d30f9e2aec819186c1392624330ff30a1119327c4434d9', content=[ResponseOutputText(annotations=[], text='Your name, Jonathan Joster, is now attached to the color Green! 🌿', type='output_text')], role='assistant', status='completed', type='message'), type='message_output_item')], raw_responses=[ModelResponse(output=[ResponseFunctionToolCall(id='fc_67d30f9d2c4c8191815219b855c560720a1119327c4434d9', arguments='{\"name\":\"Jonathan Joster\"}', call_id='call_ua90O0MR7cxnNWdXAVMaRTwD', name='green_colour_attached_to_name', type='function_call', status='completed')], usage=Usage(requests=1, input_tokens=409, output_tokens=21, total_tokens=430), referenceable_id='resp_67d30f9c79b48191b6a85ccb8374f5240a1119327c4434d9'), ModelResponse(output=[ResponseOutputMessage(id='msg_67d30f9e2aec819186c1392624330ff30a1119327c4434d9', content=[ResponseOutputText(annotations=[], text='Your name, Jonathan Joster, is now attached to the color Green! 🌿', type='output_text')], role='assistant', status='completed', type='message')], usage=Usage(requests=1, input_tokens=451, output_tokens=19, total_tokens=470), referenceable_id='resp_67d30f9da3e881918000300ae0ef95c80a1119327c4434d9')], final_output='Your name, Jonathan Joster, is now attached to the color Green! 🌿', input_guardrail_results=[], output_guardrail_results=[], _last_agent=Agent(name='Test Agent', instructions='You are a helpful assistant that can answer questions and help with tasks.', handoff_description=None, handoffs=[], model='gpt-4o', model_settings=ModelSettings(temperature=None, top_p=None, frequency_penalty=None, presence_penalty=None, tool_choice=None, parallel_tool_calls=False, truncation=None), tools=[WebSearchTool(user_location=None, search_context_size='medium'), FunctionTool(name='green_colour_attached_to_name', description='', params_json_schema={'properties': {'name': {'title': 'Name', 'type': 'string'}}, 'required': ['name'], 'title': 'green_colour_attached_to_name_args', 'type': 'object', 'additionalProperties': False}, on_invoke_tool=<function function_tool.<locals>._create_function_tool.<locals>._on_invoke_tool at 0x117a33c40>, strict_json_schema=True)], input_guardrails=[], output_guardrails=[], output_type=None, hooks=None))"
      ]
     },
     "execution_count": 58,
     "metadata": {},
     "output_type": "execute_result"
    }
   ],
   "source": [
    "result"
   ]
  },
  {
   "cell_type": "code",
   "execution_count": 52,
   "metadata": {},
   "outputs": [
    {
     "data": {
      "text/plain": [
       "[{'role': 'user', 'content': 'Attach a colour to my name.'},\n",
       " {'id': 'msg_67d30f967ef481919df101ca80beddae0a1119327c4434d9',\n",
       "  'content': [{'annotations': [],\n",
       "    'text': 'Sure! Could you please provide your name?',\n",
       "    'type': 'output_text'}],\n",
       "  'role': 'assistant',\n",
       "  'status': 'completed',\n",
       "  'type': 'message'},\n",
       " {'role': 'user', 'content': 'My name is Jonathan Joster.'},\n",
       " {'id': 'fc_67d30f9d2c4c8191815219b855c560720a1119327c4434d9',\n",
       "  'arguments': '{\"name\":\"Jonathan Joster\"}',\n",
       "  'call_id': 'call_ua90O0MR7cxnNWdXAVMaRTwD',\n",
       "  'name': 'green_colour_attached_to_name',\n",
       "  'type': 'function_call',\n",
       "  'status': 'completed'},\n",
       " {'call_id': 'call_ua90O0MR7cxnNWdXAVMaRTwD',\n",
       "  'output': 'Jonathan Joster, you are now Green :)',\n",
       "  'type': 'function_call_output'},\n",
       " {'id': 'msg_67d30f9e2aec819186c1392624330ff30a1119327c4434d9',\n",
       "  'content': [{'annotations': [],\n",
       "    'text': 'Your name, Jonathan Joster, is now attached to the color Green! 🌿',\n",
       "    'type': 'output_text'}],\n",
       "  'role': 'assistant',\n",
       "  'status': 'completed',\n",
       "  'type': 'message'}]"
      ]
     },
     "execution_count": 52,
     "metadata": {},
     "output_type": "execute_result"
    }
   ],
   "source": [
    "result.to_input_list()"
   ]
  },
  {
   "cell_type": "code",
   "execution_count": 54,
   "metadata": {},
   "outputs": [
    {
     "data": {
      "text/plain": [
       "'Your name, Jonathan Joster, is now attached to the color Green! 🌿'"
      ]
     },
     "execution_count": 54,
     "metadata": {},
     "output_type": "execute_result"
    }
   ],
   "source": [
    "result.final_output"
   ]
  },
  {
   "cell_type": "code",
   "execution_count": null,
   "metadata": {},
   "outputs": [
    {
     "name": "stdout",
     "output_type": "stream",
     "text": [
      "{'input': 'Attach a colour to my name.', 'new_items': [MessageOutputItem(agent=Agent(name='Test Agent', instructions='You are a helpful assistant that can answer questions and help with tasks.', handoff_description=None, handoffs=[], model='gpt-4o', model_settings=ModelSettings(temperature=None, top_p=None, frequency_penalty=None, presence_penalty=None, tool_choice=None, parallel_tool_calls=False, truncation=None), tools=[WebSearchTool(user_location=None, search_context_size='medium'), FunctionTool(name='green_colour_attached_to_name', description='', params_json_schema={'properties': {'name': {'title': 'Name', 'type': 'string'}}, 'required': ['name'], 'title': 'green_colour_attached_to_name_args', 'type': 'object', 'additionalProperties': False}, on_invoke_tool=<function function_tool.<locals>._create_function_tool.<locals>._on_invoke_tool at 0x1170f3880>, strict_json_schema=True)], input_guardrails=[], output_guardrails=[], output_type=None, hooks=None), raw_item=ResponseOutputMessage(id='msg_67d30e55b28481918d0d1169cca57dec02f47d848a636dfc', content=[ResponseOutputText(annotations=[], text=\"Please provide your name, and I'll associate a color with it.\", type='output_text')], role='assistant', status='completed', type='message'), type='message_output_item')], 'raw_responses': [ModelResponse(output=[ResponseOutputMessage(id='msg_67d30e55b28481918d0d1169cca57dec02f47d848a636dfc', content=[ResponseOutputText(annotations=[], text=\"Please provide your name, and I'll associate a color with it.\", type='output_text')], role='assistant', status='completed', type='message')], usage=Usage(requests=1, input_tokens=385, output_tokens=15, total_tokens=400), referenceable_id='resp_67d30e553cfc819190f2187371762b6e02f47d848a636dfc')], 'final_output': \"Please provide your name, and I'll associate a color with it.\", 'input_guardrail_results': [], 'output_guardrail_results': [], '_last_agent': Agent(name='Test Agent', instructions='You are a helpful assistant that can answer questions and help with tasks.', handoff_description=None, handoffs=[], model='gpt-4o', model_settings=ModelSettings(temperature=None, top_p=None, frequency_penalty=None, presence_penalty=None, tool_choice=None, parallel_tool_calls=False, truncation=None), tools=[WebSearchTool(user_location=None, search_context_size='medium'), FunctionTool(name='green_colour_attached_to_name', description='', params_json_schema={'properties': {'name': {'title': 'Name', 'type': 'string'}}, 'required': ['name'], 'title': 'green_colour_attached_to_name_args', 'type': 'object', 'additionalProperties': False}, on_invoke_tool=<function function_tool.<locals>._create_function_tool.<locals>._on_invoke_tool at 0x1170f3880>, strict_json_schema=True)], input_guardrails=[], output_guardrails=[], output_type=None, hooks=None)}\n"
     ]
    }
   ],
   "source": [
    "with trace(\"Test Agent\"):\n",
    "    result = await Runner.run(agent, \"Attach a colour to my name.\")\n",
    "    print(result)"
   ]
  }
 ],
 "metadata": {
  "kernelspec": {
   "display_name": "experiments",
   "language": "python",
   "name": "python3"
  },
  "language_info": {
   "codemirror_mode": {
    "name": "ipython",
    "version": 3
   },
   "file_extension": ".py",
   "mimetype": "text/x-python",
   "name": "python",
   "nbconvert_exporter": "python",
   "pygments_lexer": "ipython3",
   "version": "3.12.8"
  }
 },
 "nbformat": 4,
 "nbformat_minor": 2
}
