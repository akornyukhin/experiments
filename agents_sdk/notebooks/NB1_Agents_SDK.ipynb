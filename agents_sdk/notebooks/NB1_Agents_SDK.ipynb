{
 "cells": [
  {
   "cell_type": "code",
   "execution_count": 29,
   "metadata": {},
   "outputs": [],
   "source": [
    "from agents import Agent, WebSearchTool, function_tool, Runner, trace, RunResult, TResponseInputItem"
   ]
  },
  {
   "cell_type": "code",
   "execution_count": 30,
   "metadata": {},
   "outputs": [],
   "source": [
    "@function_tool\n",
    "def green_colour_attached_to_name(name: str) -> str:\n",
    "    return f\"{name}, you are now Green :)\""
   ]
  },
  {
   "cell_type": "code",
   "execution_count": 31,
   "metadata": {},
   "outputs": [],
   "source": [
    "agent = Agent(\n",
    "    name=\"Test Agent\",\n",
    "    model=\"gpt-4o\",\n",
    "    instructions=\"You are a helpful assistant that can answer questions and help with tasks.\",\n",
    "    tools=[WebSearchTool(), green_colour_attached_to_name],\n",
    ")"
   ]
  },
  {
   "cell_type": "code",
   "execution_count": 50,
   "metadata": {},
   "outputs": [],
   "source": [
    "async def main(inputs: list[TResponseInputItem]):\n",
    "    with trace(\"Test Agent\"):\n",
    "        result = await Runner.run(agent, input=inputs)\n",
    "        return result"
   ]
  },
  {
   "cell_type": "code",
   "execution_count": 51,
   "metadata": {},
   "outputs": [],
   "source": [
    "result: RunResult = await main([{\"role\": \"user\", \"content\": \"Attach a colour to my name.\"}])"
   ]
  },
  {
   "cell_type": "code",
   "execution_count": 52,
   "metadata": {},
   "outputs": [
    {
     "data": {
      "text/plain": [
       "[{'role': 'user', 'content': 'Attach a colour to my name.'},\n",
       " {'id': 'msg_67d31f09b1cc81919d4cb838c769a3fa05b808990ba6cf0a',\n",
       "  'content': [{'annotations': [],\n",
       "    'text': \"Sure! What's your name?\",\n",
       "    'type': 'output_text'}],\n",
       "  'role': 'assistant',\n",
       "  'status': 'completed',\n",
       "  'type': 'message'}]"
      ]
     },
     "execution_count": 52,
     "metadata": {},
     "output_type": "execute_result"
    }
   ],
   "source": [
    "result.to_input_list()"
   ]
  },
  {
   "cell_type": "code",
   "execution_count": 53,
   "metadata": {},
   "outputs": [],
   "source": [
    "result: RunResult = await main([*result.to_input_list(),\n",
    "                    {\"role\": \"user\", \"content\": \"My name is Jonathan Joster.\"}])"
   ]
  },
  {
   "cell_type": "code",
   "execution_count": 54,
   "metadata": {},
   "outputs": [
    {
     "data": {
      "text/plain": [
       "'Your name, Jonathan Joster, is now associated with the color green! 🍃'"
      ]
     },
     "execution_count": 54,
     "metadata": {},
     "output_type": "execute_result"
    }
   ],
   "source": [
    "result.final_output"
   ]
  },
  {
   "cell_type": "code",
   "execution_count": 55,
   "metadata": {},
   "outputs": [
    {
     "data": {
      "text/plain": [
       "[{'role': 'user', 'content': 'Attach a colour to my name.'},\n",
       " {'id': 'msg_67d31f09b1cc81919d4cb838c769a3fa05b808990ba6cf0a',\n",
       "  'content': [{'annotations': [],\n",
       "    'text': \"Sure! What's your name?\",\n",
       "    'type': 'output_text'}],\n",
       "  'role': 'assistant',\n",
       "  'status': 'completed',\n",
       "  'type': 'message'},\n",
       " {'role': 'user', 'content': 'My name is Jonathan Joster.'},\n",
       " {'id': 'fc_67d31f10017081918d6d6934314a96e005b808990ba6cf0a',\n",
       "  'arguments': '{\"name\":\"Jonathan Joster\"}',\n",
       "  'call_id': 'call_NTbX8Kk1aUk5bXMQsKDRuxpM',\n",
       "  'name': 'green_colour_attached_to_name',\n",
       "  'type': 'function_call',\n",
       "  'status': 'completed'},\n",
       " {'call_id': 'call_NTbX8Kk1aUk5bXMQsKDRuxpM',\n",
       "  'output': 'Jonathan Joster, you are now Green :)',\n",
       "  'type': 'function_call_output'},\n",
       " {'id': 'msg_67d31f1117c08191b84479933e14626605b808990ba6cf0a',\n",
       "  'content': [{'annotations': [],\n",
       "    'text': 'Your name, Jonathan Joster, is now associated with the color green! 🍃',\n",
       "    'type': 'output_text'}],\n",
       "  'role': 'assistant',\n",
       "  'status': 'completed',\n",
       "  'type': 'message'}]"
      ]
     },
     "execution_count": 55,
     "metadata": {},
     "output_type": "execute_result"
    }
   ],
   "source": [
    "result.to_input_list()"
   ]
  },
  {
   "cell_type": "code",
   "execution_count": null,
   "metadata": {},
   "outputs": [],
   "source": []
  }
 ],
 "metadata": {
  "kernelspec": {
   "display_name": "experiments",
   "language": "python",
   "name": "python3"
  },
  "language_info": {
   "codemirror_mode": {
    "name": "ipython",
    "version": 3
   },
   "file_extension": ".py",
   "mimetype": "text/x-python",
   "name": "python",
   "nbconvert_exporter": "python",
   "pygments_lexer": "ipython3",
   "version": "3.12.8"
  }
 },
 "nbformat": 4,
 "nbformat_minor": 2
}
